{
 "cells": [
  {
   "cell_type": "code",
   "execution_count": null,
   "metadata": {
    "collapsed": true
   },
   "outputs": [],
   "source": [
    "import pandas as pd\n",
    "import numpy as np\n",
    "#from openpyxl import load_workbook\n",
    "%matplotlib inline"
   ]
  },
  {
   "cell_type": "code",
   "execution_count": null,
   "metadata": {
    "collapsed": true
   },
   "outputs": [],
   "source": [
    "bank_statement = pd.read_excel(\"bank_statement.xls\")\n",
    "#bank_statement.head(80)"
   ]
  },
  {
   "cell_type": "code",
   "execution_count": null,
   "metadata": {},
   "outputs": [],
   "source": [
    "#bank_statement = bank_statement.rename(columns={'HDFC BANK Ltd.                                      Page No .:   1                                          Statement of accounts':'Din'})\n",
    "#bank_statement.columns = ['Date'] + bank_statement.columns.tolist()[1:]\n",
    "\n",
    "# TODO - Generically detect bank name\n",
    "# HDFC Specific\n",
    "bank_statement.columns = ['Date', 'Narration', 'Chq_Ref', 'ValueDt', 'Withdrawal','Deposit','ClosingBalance']\n",
    "bank_statement = bank_statement[bank_statement.Narration.notna()]\n",
    "#bank_statement"
   ]
  },
  {
   "cell_type": "code",
   "execution_count": null,
   "metadata": {},
   "outputs": [],
   "source": [
    "bank_statement.Date = pd.to_datetime(bank_statement.Date, errors=\"coerce\")\n",
    "bank_statement = bank_statement[bank_statement.Date.notna()]\n",
    "\n",
    "bank_statement.head()"
   ]
  },
  {
   "cell_type": "code",
   "execution_count": null,
   "metadata": {},
   "outputs": [],
   "source": [
    "# Plot bank balance\n",
    "bank_statement.ClosingBalance.plot(x=bank_statement.Date)"
   ]
  },
  {
   "cell_type": "code",
   "execution_count": null,
   "metadata": {},
   "outputs": [],
   "source": [
    "incoming = bank_statement[bank_statement.Deposit.notna()]\n",
    "incoming"
   ]
  },
  {
   "cell_type": "code",
   "execution_count": null,
   "metadata": {},
   "outputs": [],
   "source": [
    "incoming.axes"
   ]
  },
  {
   "cell_type": "code",
   "execution_count": null,
   "metadata": {},
   "outputs": [],
   "source": [
    "#incoming.drop(\"Chq_Ref\")\n",
    "incoming = incoming.drop(['Chq_Ref', 'ValueDt', 'Withdrawal'], 1)\n",
    "incoming"
   ]
  },
  {
   "cell_type": "code",
   "execution_count": null,
   "metadata": {},
   "outputs": [],
   "source": [
    "incoming.Deposit.plot()"
   ]
  },
  {
   "cell_type": "code",
   "execution_count": null,
   "metadata": {},
   "outputs": [],
   "source": [
    "# Add new columns\n",
    "month_series = incoming.Date.dt.month\n",
    "month_series"
   ]
  },
  {
   "cell_type": "code",
   "execution_count": null,
   "metadata": {},
   "outputs": [],
   "source": [
    "year_series = incoming.Date.dt.year\n",
    "year_series"
   ]
  },
  {
   "cell_type": "code",
   "execution_count": null,
   "metadata": {},
   "outputs": [],
   "source": [
    "# Add month and year columns \n",
    "incoming = incoming.assign(Month=month_series, Year=year_series)\n",
    "#incoming = incoming.drop(['month', 'year'], 1)\n",
    "incoming"
   ]
  },
  {
   "cell_type": "code",
   "execution_count": null,
   "metadata": {},
   "outputs": [],
   "source": [
    "salary = incoming[incoming.Narration.str.contains(\"SAL\")]\n",
    "salary"
   ]
  },
  {
   "cell_type": "code",
   "execution_count": null,
   "metadata": {},
   "outputs": [],
   "source": [
    "salary.plot(x='Month', y='Deposit')"
   ]
  },
  {
   "cell_type": "code",
   "execution_count": null,
   "metadata": {},
   "outputs": [],
   "source": [
    "salary.Deposit.mean()"
   ]
  },
  {
   "cell_type": "code",
   "execution_count": null,
   "metadata": {
    "collapsed": true
   },
   "outputs": [],
   "source": []
  }
 ],
 "metadata": {
  "kernelspec": {
   "display_name": "Python 2",
   "language": "python",
   "name": "python2"
  },
  "language_info": {
   "codemirror_mode": {
    "name": "ipython",
    "version": 2
   },
   "file_extension": ".py",
   "mimetype": "text/x-python",
   "name": "python",
   "nbconvert_exporter": "python",
   "pygments_lexer": "ipython2",
   "version": "2.7.14"
  }
 },
 "nbformat": 4,
 "nbformat_minor": 2
}
