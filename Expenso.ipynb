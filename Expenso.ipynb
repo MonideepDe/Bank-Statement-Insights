{
 "cells": [
  {
   "cell_type": "code",
   "execution_count": null,
   "metadata": {
    "collapsed": true
   },
   "outputs": [],
   "source": [
    "import pandas as pd\n",
    "import numpy as np\n",
    "#from openpyxl import load_workbook\n",
    "%matplotlib inline"
   ]
  },
  {
   "cell_type": "code",
   "execution_count": null,
   "metadata": {},
   "outputs": [],
   "source": [
    "bank_statement = pd.read_excel(\"bank_statement.xls\")\n",
    "bank_statement.head(30)"
   ]
  },
  {
   "cell_type": "code",
   "execution_count": null,
   "metadata": {},
   "outputs": [],
   "source": [
    "#bank_statement = bank_statement.rename(columns={'HDFC BANK Ltd.                                      Page No .:   1                                          Statement of accounts':'Din'})\n",
    "#bank_statement.columns = ['Date'] + bank_statement.columns.tolist()[1:]\n",
    "\n",
    "# HDFC Specific\n",
    "bank_statement.columns = ['Date', 'Narration', 'Chq/Ref', 'ValueDt', 'Withdrawal','Deposit','ClosingBalance']\n",
    "bank_statement.head()"
   ]
  },
  {
   "cell_type": "code",
   "execution_count": null,
   "metadata": {},
   "outputs": [],
   "source": [
    "bank_statement.Date = pd.to_datetime(bank_statement.Date, errors=\"coerce\")\n",
    "bank_statement = bank_statement[bank_statement.Date.notna()]\n",
    "bank_statement"
   ]
  },
  {
   "cell_type": "code",
   "execution_count": null,
   "metadata": {},
   "outputs": [],
   "source": [
    "# Removing time stamp from dates\n",
    "bank_statement.Date = pd.DatetimeIndex(bank_statement.Date).normalize()\n",
    "bank_statement.head()"
   ]
  },
  {
   "cell_type": "code",
   "execution_count": null,
   "metadata": {},
   "outputs": [],
   "source": [
    "# Plot bank balance over time\n",
    "bank_statement.ClosingBalance.plot()"
   ]
  },
  {
   "cell_type": "code",
   "execution_count": null,
   "metadata": {},
   "outputs": [],
   "source": [
    "incoming = bank_statement[bank_statement.Deposit.notna()]\n",
    "incoming"
   ]
  },
  {
   "cell_type": "code",
   "execution_count": null,
   "metadata": {},
   "outputs": [],
   "source": [
    "#Not working - work in progress\n",
    "monthly_incoming = pd.date_range(incoming.index[0], incoming.index[-1], freq=\"D\", normalize=True)\n",
    "monthly_incoming"
   ]
  },
  {
   "cell_type": "code",
   "execution_count": null,
   "metadata": {
    "collapsed": true
   },
   "outputs": [],
   "source": []
  }
 ],
 "metadata": {
  "kernelspec": {
   "display_name": "Python 2",
   "language": "python",
   "name": "python2"
  },
  "language_info": {
   "codemirror_mode": {
    "name": "ipython",
    "version": 2
   },
   "file_extension": ".py",
   "mimetype": "text/x-python",
   "name": "python",
   "nbconvert_exporter": "python",
   "pygments_lexer": "ipython2",
   "version": "2.7.14"
  }
 },
 "nbformat": 4,
 "nbformat_minor": 2
}
